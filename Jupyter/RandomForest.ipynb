{
 "cells": [
  {
   "cell_type": "code",
   "execution_count": 44,
   "metadata": {},
   "outputs": [],
   "source": [
    "# Pandas is used for data manipulation\n",
    "import pandas as pd\n",
    "\n",
    "# Read in data and display first 5 rows\n",
    "features = pd.read_csv(\"../processed_data/2018_Clusters_Ratios_AF_All.csv\")\n",
    "columns = features.columns"
   ]
  },
  {
   "cell_type": "code",
   "execution_count": 45,
   "metadata": {},
   "outputs": [
    {
     "data": {
      "text/plain": [
       "6     1455\n",
       "20     974\n",
       "40     451\n",
       "33     234\n",
       "44     110\n",
       "21      91\n",
       "5       73\n",
       "9       56\n",
       "37      17\n",
       "14      15\n",
       "17      11\n",
       "27      10\n",
       "4        8\n",
       "11       8\n",
       "13       7\n",
       "18       7\n",
       "36       6\n",
       "29       5\n",
       "0        4\n",
       "7        4\n",
       "25       4\n",
       "23       4\n",
       "1        2\n",
       "19       2\n",
       "10       2\n",
       "22       1\n",
       "2        1\n",
       "39       1\n",
       "35       1\n",
       "8        1\n",
       "12       1\n",
       "31       1\n",
       "16       1\n",
       "24       1\n",
       "3        1\n",
       "26       1\n",
       "28       1\n",
       "30       1\n",
       "32       1\n",
       "34       1\n",
       "38       1\n",
       "15       1\n",
       "42       1\n",
       "41       1\n",
       "43       1\n",
       "Name: cluster, dtype: int64"
      ]
     },
     "execution_count": 45,
     "metadata": {},
     "output_type": "execute_result"
    }
   ],
   "source": [
    "features['cluster'].value_counts()"
   ]
  },
  {
   "cell_type": "code",
   "execution_count": 46,
   "metadata": {},
   "outputs": [],
   "source": [
    "counts = features['cluster'].value_counts()"
   ]
  },
  {
   "cell_type": "code",
   "execution_count": 47,
   "metadata": {},
   "outputs": [],
   "source": [
    "features_dupl = features;\n",
    "for index, feature in features_dupl.iterrows():\n",
    "    if counts[feature['cluster']] < 10:\n",
    "        features = features.drop([index])"
   ]
  },
  {
   "cell_type": "code",
   "execution_count": 48,
   "metadata": {},
   "outputs": [
    {
     "data": {
      "text/plain": [
       "6     1455\n",
       "20     974\n",
       "40     451\n",
       "33     234\n",
       "44     110\n",
       "21      91\n",
       "5       73\n",
       "9       56\n",
       "37      17\n",
       "14      15\n",
       "17      11\n",
       "27      10\n",
       "Name: cluster, dtype: int64"
      ]
     },
     "execution_count": 48,
     "metadata": {},
     "output_type": "execute_result"
    }
   ],
   "source": [
    "features['cluster'].value_counts()"
   ]
  },
  {
   "cell_type": "code",
   "execution_count": 49,
   "metadata": {},
   "outputs": [],
   "source": [
    "# Set \"Name\" column to the index\n",
    "features = features.set_index('Name')\n",
    "\n",
    "# Drop \"Name\" column\n",
    "#features.drop(['Name'], axis=1)"
   ]
  },
  {
   "cell_type": "code",
   "execution_count": 50,
   "metadata": {},
   "outputs": [],
   "source": [
    "# Use numpy to convert to arrays\n",
    "import numpy as np\n",
    "\n",
    "# Labels are the values we want to predict\n",
    "labels = np.array(features['cluster'])\n",
    "\n",
    "# Remove the labels from the features\n",
    "# axis 1 refers to the columns\n",
    "features= features.drop('cluster', axis = 1)\n",
    "\n",
    "# Saving feature names for later use\n",
    "feature_list = list(features.columns)\n",
    "\n",
    "# Convert to numpy array\n",
    "features = np.array(features)"
   ]
  },
  {
   "cell_type": "code",
   "execution_count": 51,
   "metadata": {},
   "outputs": [],
   "source": [
    "# Using Skicit-learn to split data into training and testing sets\n",
    "from sklearn.model_selection import train_test_split\n",
    "\n",
    "# Split the data into training and testing sets\n",
    "train_features, test_features, train_labels, test_labels = train_test_split(features, labels, test_size = 0.25, random_state = 42)"
   ]
  },
  {
   "cell_type": "code",
   "execution_count": 52,
   "metadata": {},
   "outputs": [
    {
     "name": "stdout",
     "output_type": "stream",
     "text": [
      "Training Features Shape: (2622, 15)\n",
      "Training Labels Shape: (2622,)\n",
      "Testing Features Shape: (875, 15)\n",
      "Testing Labels Shape: (875,)\n"
     ]
    }
   ],
   "source": [
    "print('Training Features Shape:', train_features.shape)\n",
    "print('Training Labels Shape:', train_labels.shape)\n",
    "print('Testing Features Shape:', test_features.shape)\n",
    "print('Testing Labels Shape:', test_labels.shape)"
   ]
  },
  {
   "cell_type": "code",
   "execution_count": 53,
   "metadata": {},
   "outputs": [],
   "source": [
    "# The baseline predictions are the historical averages\n",
    "#baseline_preds = test_features[:, feature_list.index('average')]\n",
    "\n",
    "# Baseline errors, and display average baseline error\n",
    "#baseline_errors = abs(baseline_preds - test_labels)\n",
    "#print('Average baseline error: ', round(np.mean(baseline_errors), 2))\n",
    "#Average baseline error:  5.06 degrees."
   ]
  },
  {
   "cell_type": "code",
   "execution_count": 54,
   "metadata": {},
   "outputs": [],
   "source": [
    "# Import the model we are using\n",
    "from sklearn.ensemble import RandomForestClassifier\n",
    "\n",
    "# Instantiate model with 1000 decision trees\n",
    "rf = RandomForestClassifier(n_estimators = 1000, random_state = 42)\n",
    "\n",
    "# Train the model on training data\n",
    "rf.fit(train_features, train_labels);"
   ]
  },
  {
   "cell_type": "code",
   "execution_count": 55,
   "metadata": {},
   "outputs": [
    {
     "data": {
      "text/plain": [
       "array([[ 16,   3,   0,   0,   0,   0,   0,   0,   0,   0,   1,   0],\n",
       "       [  0, 346,   0,   0,   0,   0,   0,   0,   0,   0,   4,   0],\n",
       "       [  0,   0,  12,   0,   0,   1,   0,   0,   1,   0,   2,   0],\n",
       "       [  0,   1,   0,   2,   0,   1,   0,   0,   0,   0,   1,   0],\n",
       "       [  0,   0,   0,   0,   0,   2,   0,   0,   2,   0,   0,   0],\n",
       "       [  0,   6,   0,   0,   0, 236,   1,   0,   2,   0,   2,   0],\n",
       "       [  0,   1,   0,   0,   0,   1,  26,   0,   0,   0,   0,   0],\n",
       "       [  0,   0,   0,   0,   0,   0,   0,   1,   0,   0,   0,   0],\n",
       "       [  0,   1,   0,   0,   0,   0,   2,   0,  47,   0,   2,   0],\n",
       "       [  0,   0,   1,   0,   0,   0,   0,   0,   0,   0,   0,   1],\n",
       "       [  0,   2,   0,   0,   0,   3,   0,   0,   0,   0, 111,   0],\n",
       "       [  0,   0,   0,   0,   0,   0,   0,   0,   0,   0,   2,  32]],\n",
       "      dtype=int64)"
      ]
     },
     "execution_count": 55,
     "metadata": {},
     "output_type": "execute_result"
    }
   ],
   "source": [
    "from sklearn.metrics import confusion_matrix\n",
    "\n",
    "test_pred = rf.predict(test_features)\n",
    "confusion_matrix(test_labels, test_pred)\n"
   ]
  },
  {
   "cell_type": "code",
   "execution_count": 56,
   "metadata": {},
   "outputs": [
    {
     "name": "stdout",
     "output_type": "stream",
     "text": [
      "[ 6  6 40  6  5  6 40 40  6 20 40  6 40 20 20 20  6  6  6  6 20 40 40 20\n",
      " 33  6 20 20  9  6 33 20  6  6  6 40 40  6 20 44 40  6  6 40  6  5  6 20\n",
      "  6  6 40  6 20  6 20 20  6 20 33 17 40  6 20  5 20 20 20  6 33 21 40 20\n",
      "  6 40 17 33  6 20  6 20  6 20  6 40  6 40 40 20 20 20  6  6 33 44 40  6\n",
      " 20 20 40  6 20 20 33  6 20 20  6  6  6  6 20  6  6 40  6 14  6 20  6  6\n",
      " 33 44  6 20  6 33  6 40  5 20  6 21 33 40 20  6 40 40 20 21 20  6  6 20\n",
      "  6 40 21  6 20 20  5 21 20  6  9 20 20 44  6 33 40  6 20 20 20  6  6 44\n",
      "  6 44  6 40  6 40 33  6 20  6 40 44 20 40  6  6 20  6 44 20  6 40  6 40\n",
      " 20 33 20  6  6 20  6 20  6 20  6  6  6  6  6 40  6 20 20  6  6 21 40 44\n",
      "  9 40  6  9 20 20 40 20  6  6  6 20 40  6 44  5  6  6 40 20 20  6  5 33\n",
      "  6  6 40 20  6 20 40 20  6 14 20 21 20 20 33 20 33 20 20  6  6 40 20 40\n",
      " 20 40  6  6  5 20  6  6 20  6  5 20  6  6 40 20 21  6  6  6  6 21  6 27\n",
      " 20 37  6 20 20 20 40 44 20  6 20 14 20 21  6  9  6 20  6  6  6 20 20 21\n",
      " 33 33 40  6  6 20 44 20 20 20 20  6 21 33  6 20 40  6  6  5  6 40  6 20\n",
      " 40  6  6 20  6  6  6 40  6 20  6 44 33  6 40 37 20 40 40  6  9  6  6 20\n",
      "  6  5 33  9 20  6 20 40 20  6  6 20 20  6 20  6  6 40  6  6  5 33  6 33\n",
      " 40 21  6  6 20  6 20 20  6  6  5 20 40 21  6 33 20 40 20  6  6 33 44  6\n",
      "  6  6 20 40  6  9 33  6 33  6 40 21 40 40  6 40  6 20  6  6  6 44  6  6\n",
      " 40  6 20 20  6 20 33 40 17  6  6  6 20 20  6 20 33  6  6  6 40 40 33 40\n",
      " 20  6 20 20 20 20 40 44  6 20 40  6  6  6 21 40 44 33  6  6 20  6  6  6\n",
      " 20 21  6  6 17 40 20 40 20 40  6 20 20 20  6 40 40 20 21 33  6  5  6 20\n",
      "  6 20 20 33 20 20 20  6 21 40 20 20  6 20 44 20  9 40 40  6  6 20 20  6\n",
      "  6  9  6 33  6  6  6 20 20 20 20 33 44 20  5 40  6  6 20  6 44  6 20  6\n",
      " 20 44 20  6 40 20 20 20  6 20  6 20 40  6  6  6 33 20 44 20 20  6 20 20\n",
      " 33 20 20  6  6  6 20  9 20  6 40  6  6  6 44 20  6  6 40 20  6 20  5  6\n",
      " 20 40  6  9  6  6 20 33  6 40 44  6 20  6 21 21  6 44  6  6 21 21  6  6\n",
      " 20  6 20  6 21 20 33 20 40  6  6 20 40  6 40 33 20  6  6  6 21 20 20  6\n",
      " 40  9 21  6  6 33  6 20 20 44 20 20 44  6 20  6  6 44 20 21 20 40  6  6\n",
      " 20  6 20  6  6 20  6  6  6 20 20 20  6 40 40 20  6  6  6  6 40  6  6  6\n",
      "  6 20  6 40 20  6  6 33 20 20 20  6  6  6 33  6  6  6 20 20 20  6 40 44\n",
      " 20  6 20 33  6  6  6  5  6  6  6 40  9  6 20 40  6 20 33 40 20 20 44  6\n",
      "  6  6  6  6  9  6  6  6  6 33  6  6  6  6 44  6 33 20 20 20 40  6  6 20\n",
      " 40  6 20  6 40  6  6 20 40  6  6 40 40  6  6  6  6  6  6  6 20 20  6 20\n",
      "  6  6 44 20 20  5  6  6 20  6 20 20 20  6 40 33  6  6 20 44 20 20  6  6\n",
      "  6 20 40 14 20 40  6  6 21 20  6 20 20  6  5 20  6 40  6  5 20  9 40 20\n",
      " 20  6 14 20  6  6  6 33  6 40 40  6 40 20  6 40 20  6 33 20 20 20  6 33\n",
      " 40  6 44  6 33  6  6  6  6 20 20]\n"
     ]
    }
   ],
   "source": [
    "print(test_labels)"
   ]
  },
  {
   "cell_type": "code",
   "execution_count": 57,
   "metadata": {},
   "outputs": [
    {
     "data": {
      "text/plain": [
       "0.9474285714285714"
      ]
     },
     "execution_count": 57,
     "metadata": {},
     "output_type": "execute_result"
    }
   ],
   "source": [
    "from sklearn.metrics import accuracy_score\n",
    "accuracy_score(test_labels, test_pred)\n"
   ]
  },
  {
   "cell_type": "code",
   "execution_count": 58,
   "metadata": {},
   "outputs": [],
   "source": [
    "#Identify feature importance\n",
    "importances = rf.feature_importances_"
   ]
  },
  {
   "cell_type": "code",
   "execution_count": 59,
   "metadata": {},
   "outputs": [
    {
     "name": "stdout",
     "output_type": "stream",
     "text": [
      "[0.01702493 0.03598091 0.04603228 0.2168057  0.02408861 0.02612128\n",
      " 0.01996774 0.02221831 0.25436983 0.13418094 0.03231109 0.01744091\n",
      " 0.0150647  0.04398148 0.09441127]\n"
     ]
    }
   ],
   "source": [
    "print(importances)"
   ]
  },
  {
   "cell_type": "code",
   "execution_count": 60,
   "metadata": {},
   "outputs": [
    {
     "name": "stdout",
     "output_type": "stream",
     "text": [
      "Index(['Name', 'Net cash flow / Change in cash', 'Average Payables',\n",
      "       'Average Receivables', 'currentRatio', 'SG&A to Revenue',\n",
      "       'daysOfPayablesOutstanding', 'daysOfInventoryOutstanding',\n",
      "       'eBITperRevenue', 'Debt to Assets', 'Debt to Equity', 'Payout Ratio',\n",
      "       'ROE', 'R&D to Revenue', 'PE ratio', 'Dividend Yield', 'cluster'],\n",
      "      dtype='object')\n"
     ]
    }
   ],
   "source": [
    "print(columns)"
   ]
  },
  {
   "cell_type": "code",
   "execution_count": null,
   "metadata": {},
   "outputs": [],
   "source": []
  },
  {
   "cell_type": "code",
   "execution_count": null,
   "metadata": {},
   "outputs": [],
   "source": []
  }
 ],
 "metadata": {
  "kernelspec": {
   "display_name": "Python 3",
   "language": "python",
   "name": "python3"
  },
  "language_info": {
   "codemirror_mode": {
    "name": "ipython",
    "version": 3
   },
   "file_extension": ".py",
   "mimetype": "text/x-python",
   "name": "python",
   "nbconvert_exporter": "python",
   "pygments_lexer": "ipython3",
   "version": "3.8.5"
  }
 },
 "nbformat": 4,
 "nbformat_minor": 4
}
